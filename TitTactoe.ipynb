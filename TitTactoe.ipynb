{
  "nbformat": 4,
  "nbformat_minor": 0,
  "metadata": {
    "colab": {
      "provenance": []
    },
    "kernelspec": {
      "name": "python3",
      "display_name": "Python 3"
    },
    "language_info": {
      "name": "python"
    }
  },
  "cells": [
    {
      "cell_type": "code",
      "execution_count": null,
      "metadata": {
        "id": "xxuHZUOpl09n"
      },
      "outputs": [],
      "source": [
        "board_size = int(input(\"Enter a BoardSize:\"))\n",
        "board = [['-','-','-'],['-','-','-'],['-','-','-']]\n",
        "\n",
        "print(\"Initial Board\")\n",
        "for i in range(board_size):\n",
        "    for j in range(board_size):\n",
        "        print(board[i][j], end=' ')\n",
        "    print()\n",
        "\n",
        "move = 0\n",
        "game_over = False\n",
        "\n",
        "while True:\n",
        "    row = int(input(\"Enter a row : \"))\n",
        "    column = int(input(\"Enter a column : \"))\n",
        "    step = input(\"Enter X or O: \")\n",
        "\n",
        "    if 0 <= row < board_size and 0 <= column < board_size and board[row][column] == '-' and (step == 'X' or step == 'O'):\n",
        "        board[row][column] = step\n",
        "        move += 1\n",
        "        print(\"Move completed.\")\n",
        "    else:\n",
        "        print(\"Invalid move. Try again.\")\n",
        "        continue\n",
        "\n",
        "    print('Updated Board:')\n",
        "    for i in range(board_size):\n",
        "        for j in range(board_size):\n",
        "            print(board[i][j], end=' ')\n",
        "        print()\n",
        "\n",
        "    for i in range(board_size):\n",
        "        if board[i][0] == board[i][1] == board[i][2] == 'X' or board[0][i] == board[1][i] == board[2][i] == 'X':\n",
        "            print(\"First User (X) wins!\")\n",
        "            game_over = True\n",
        "        elif board[i][0] == board[i][1] == board[i][2] == 'O' or board[0][i] == board[1][i] == board[2][i] == 'O':\n",
        "            print(\"Second User (O) wins!\")\n",
        "            game_over = True\n",
        "\n",
        "    if board[0][0] == board[1][1] == board[2][2] == 'X' or board[0][2] == board[1][1] == board[2][0] == 'X':\n",
        "        print(\"First User (X) wins!\")\n",
        "        game_over = True\n",
        "    elif board[0][0] == board[1][1] == board[2][2] == 'O' or board[0][2] == board[1][1] == board[2][0] == 'O':\n",
        "        print(\"Second User (O) wins!\")\n",
        "        game_over = True\n",
        "\n",
        "    if move == 9:\n",
        "        print(\"It's a tie!\")\n",
        "        game_over = True"
      ]
    }
  ]
}